{
 "cells": [
  {
   "cell_type": "code",
   "execution_count": 2,
   "metadata": {
    "colab": {
     "base_uri": "https://localhost:8080/"
    },
    "executionInfo": {
     "elapsed": 216,
     "status": "ok",
     "timestamp": 1724182457264,
     "user": {
      "displayName": "Hongzhou Yang",
      "userId": "15013610750638045081"
     },
     "user_tz": 360
    },
    "id": "ui9EPuVISCbS",
    "outputId": "4ea45e27-5874-41d5-e7d3-a1ad14168bd6"
   },
   "outputs": [
    {
     "name": "stdout",
     "output_type": "stream",
     "text": [
      "{'apple', 'cherry', 'banana'}\n",
      "{'carrot', 'onion', 'potato'}\n",
      "set()\n"
     ]
    }
   ],
   "source": [
    "# Creating a set with curly braces\n",
    "fruits = {'apple', 'banana', 'cherry'}\n",
    "\n",
    "# Creating a set from a list\n",
    "vegetables = set(['carrot', 'potato', 'onion'])\n",
    "\n",
    "# Creating an empty set\n",
    "empty_set = set()\n",
    "\n",
    "print(fruits)\n",
    "print(vegetables)\n",
    "print(empty_set)"
   ]
  },
  {
   "cell_type": "code",
   "execution_count": 3,
   "metadata": {
    "colab": {
     "base_uri": "https://localhost:8080/"
    },
    "executionInfo": {
     "elapsed": 281,
     "status": "ok",
     "timestamp": 1724182760298,
     "user": {
      "displayName": "Hongzhou Yang",
      "userId": "15013610750638045081"
     },
     "user_tz": 360
    },
    "id": "bXpY0KfKSC0P",
    "outputId": "ed8096d3-8ddf-403f-f331-15cdde08c0fb"
   },
   "outputs": [
    {
     "name": "stdout",
     "output_type": "stream",
     "text": [
      "apple\n"
     ]
    }
   ],
   "source": [
    "# Adding an element to a set\n",
    "fruits.add('orange')\n",
    "\n",
    "# Remove an element using remove()\n",
    "fruits.remove('banana')  # Raises KeyError if 'banana' is not found\n",
    "\n",
    "# Remove an element using discard()\n",
    "fruits.discard('banana')  # Does nothing if 'banana' is not found\n",
    "\n",
    "# Remove and return an arbitrary set element using pop()\n",
    "popped_fruit = fruits.pop()\n",
    "print(popped_fruit)  # Output could vary as sets are unordered"
   ]
  },
  {
   "cell_type": "code",
   "execution_count": 4,
   "metadata": {
    "colab": {
     "base_uri": "https://localhost:8080/"
    },
    "executionInfo": {
     "elapsed": 211,
     "status": "ok",
     "timestamp": 1724182937748,
     "user": {
      "displayName": "Hongzhou Yang",
      "userId": "15013610750638045081"
     },
     "user_tz": 360
    },
    "id": "CjawGPUuT7A_",
    "outputId": "0e8eb207-1832-4628-c16e-b7ce39023122"
   },
   "outputs": [
    {
     "name": "stdout",
     "output_type": "stream",
     "text": [
      "{1, 2, 3, 4, 5, 6}\n",
      "{3, 4}\n",
      "{1, 2}\n",
      "{1, 2, 5, 6}\n"
     ]
    }
   ],
   "source": [
    "a = {1, 2, 3, 4}\n",
    "b = {3, 4, 5, 6}\n",
    "\n",
    "# Union of sets\n",
    "print(a | b)  # Output: {1, 2, 3, 4, 5, 6}\n",
    "\n",
    "# Intersection of sets\n",
    "print(a & b)  # Output: {3, 4}\n",
    "\n",
    "# Difference of sets\n",
    "print(a - b)  # Output: {1, 2}\n",
    "\n",
    "# Symmetric difference of sets\n",
    "print(a ^ b)  # Output: {1, 2, 5, 6}"
   ]
  },
  {
   "cell_type": "code",
   "execution_count": 6,
   "metadata": {
    "colab": {
     "base_uri": "https://localhost:8080/"
    },
    "executionInfo": {
     "elapsed": 221,
     "status": "ok",
     "timestamp": 1724183301173,
     "user": {
      "displayName": "Hongzhou Yang",
      "userId": "15013610750638045081"
     },
     "user_tz": 360
    },
    "id": "eMMNQ51UVOcC",
    "outputId": "641522ce-545e-4e34-c8fc-40ed19486f21"
   },
   "outputs": [
    {
     "name": "stdout",
     "output_type": "stream",
     "text": [
      "frozenset({'apple', 'cherry', 'banana'})\n"
     ]
    }
   ],
   "source": [
    "# Creating a frozenset\n",
    "immutable_fruits = frozenset(['apple', 'banana', 'cherry'])\n",
    "print(immutable_fruits)"
   ]
  }
 ],
 "metadata": {
  "colab": {
   "authorship_tag": "ABX9TyOEVY8U846Wt7p7VFHOmaeV",
   "provenance": []
  },
  "kernelspec": {
   "display_name": "Python 3 (ipykernel)",
   "language": "python",
   "name": "python3"
  },
  "language_info": {
   "codemirror_mode": {
    "name": "ipython",
    "version": 3
   },
   "file_extension": ".py",
   "mimetype": "text/x-python",
   "name": "python",
   "nbconvert_exporter": "python",
   "pygments_lexer": "ipython3",
   "version": "3.10.9"
  }
 },
 "nbformat": 4,
 "nbformat_minor": 4
}
