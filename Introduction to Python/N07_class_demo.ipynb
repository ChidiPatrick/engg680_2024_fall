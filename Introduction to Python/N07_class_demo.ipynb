{
 "cells": [
  {
   "cell_type": "code",
   "execution_count": 1,
   "metadata": {
    "colab": {
     "base_uri": "https://localhost:8080/"
    },
    "executionInfo": {
     "elapsed": 8,
     "status": "ok",
     "timestamp": 1724293226211,
     "user": {
      "displayName": "Hongzhou Yang",
      "userId": "15013610750638045081"
     },
     "user_tz": 360
    },
    "id": "c2vLZDhl4kh5",
    "outputId": "dfbca490-2e56-445f-ea14-a7682c8488ef"
   },
   "outputs": [
    {
     "name": "stdout",
     "output_type": "stream",
     "text": [
      "Rex is 5 years old.\n",
      "Rex is 5 years old\n",
      "Rex says Woof Woof\n"
     ]
    }
   ],
   "source": [
    "class Dog:\n",
    "    # Class Attribute\n",
    "    species = \"Canis familiaris\"\n",
    "\n",
    "    # Initializer / Instance Attributes\n",
    "    def __init__(self, name, age):\n",
    "        self.name = name\n",
    "        self.age = age\n",
    "\n",
    "    # Instance method\n",
    "    def description(self):\n",
    "        return f\"{self.name} is {self.age} years old\"\n",
    "\n",
    "    # Another instance method\n",
    "    def speak(self, sound):\n",
    "        return f\"{self.name} says {sound}\"\n",
    "\n",
    "# Instantiate the Dog class\n",
    "my_dog = Dog(\"Rex\", 5)\n",
    "\n",
    "# Access the instance attributes\n",
    "print(f\"{my_dog.name} is {my_dog.age} years old.\")  # Rex is 5 years old.\n",
    "\n",
    "# Call our instance method\n",
    "print(my_dog.description())  # Rex is 5 years old\n",
    "print(my_dog.speak(\"Woof Woof\"))  # Rex says Woof Woof"
   ]
  },
  {
   "cell_type": "code",
   "execution_count": 2,
   "metadata": {
    "colab": {
     "base_uri": "https://localhost:8080/"
    },
    "executionInfo": {
     "elapsed": 344,
     "status": "ok",
     "timestamp": 1724293358464,
     "user": {
      "displayName": "Hongzhou Yang",
      "userId": "15013610750638045081"
     },
     "user_tz": 360
    },
    "id": "pVPlD41Q5JCv",
    "outputId": "6595d9af-d26c-4067-b652-6230b6a09abc"
   },
   "outputs": [
    {
     "name": "stdout",
     "output_type": "stream",
     "text": [
      "Max says Bark\n"
     ]
    }
   ],
   "source": [
    "class GermanShepherd(Dog):\n",
    "    def speak(self, sound=\"Bark\"):\n",
    "        return super().speak(sound)\n",
    "\n",
    "# Create an instance of GermanShepherd\n",
    "my_dog = GermanShepherd(\"Max\", 3)\n",
    "print(my_dog.speak())  # Max says Bark"
   ]
  },
  {
   "cell_type": "code",
   "execution_count": 3,
   "metadata": {
    "colab": {
     "base_uri": "https://localhost:8080/"
    },
    "executionInfo": {
     "elapsed": 736,
     "status": "ok",
     "timestamp": 1724293758805,
     "user": {
      "displayName": "Hongzhou Yang",
      "userId": "15013610750638045081"
     },
     "user_tz": 360
    },
    "id": "Tl4Tx5k26o36",
    "outputId": "0ffe0c51-e943-4611-fd63-a4dda5e22843"
   },
   "outputs": [
    {
     "name": "stdout",
     "output_type": "stream",
     "text": [
      "Canis familiaris\n",
      "True\n"
     ]
    }
   ],
   "source": [
    "class Dog:\n",
    "    # Class attribute\n",
    "    species = \"Canis familiaris\"\n",
    "\n",
    "    # Initializer\n",
    "    def __init__(self, name, age):\n",
    "        self.name = name\n",
    "        self.age = age\n",
    "\n",
    "    # Instance method\n",
    "    def description(self):\n",
    "        return f\"{self.name} is {self.age} years old\"\n",
    "\n",
    "    @classmethod\n",
    "    def get_species(cls):\n",
    "        return cls.species\n",
    "\n",
    "    @staticmethod\n",
    "    def is_dog_animal():\n",
    "        return True\n",
    "\n",
    "# Class method can be called on the class itself, not just on instances\n",
    "print(Dog.get_species())  # Canis familiaris\n",
    "\n",
    "# Static method can be called on the class itself too\n",
    "print(Dog.is_dog_animal())  # True"
   ]
  },
  {
   "cell_type": "code",
   "execution_count": 4,
   "metadata": {
    "colab": {
     "base_uri": "https://localhost:8080/"
    },
    "executionInfo": {
     "elapsed": 317,
     "status": "ok",
     "timestamp": 1724294183433,
     "user": {
      "displayName": "Hongzhou Yang",
      "userId": "15013610750638045081"
     },
     "user_tz": 360
    },
    "id": "KVWmV8QH8SSL",
    "outputId": "08713ba5-545f-43dd-da01-59ec2a3c8ec8"
   },
   "outputs": [
    {
     "name": "stdout",
     "output_type": "stream",
     "text": [
      "Harry Potter hardcover\n",
      "Python Programming paperback\n"
     ]
    }
   ],
   "source": [
    "class Book:\n",
    "    types = ['hardcover', 'paperback']\n",
    "\n",
    "    def __init__(self, title, book_type):\n",
    "        self.title = title\n",
    "        self.book_type = book_type\n",
    "\n",
    "    @classmethod\n",
    "    def hardcover(cls, title):\n",
    "        return cls(title, cls.types[0])\n",
    "\n",
    "    @classmethod\n",
    "    def paperback(cls, title):\n",
    "        return cls(title, cls.types[1])\n",
    "\n",
    "# Create instances using the class method\n",
    "book1 = Book.hardcover(\"Harry Potter\")\n",
    "book2 = Book.paperback(\"Python Programming\")\n",
    "\n",
    "print(book1.title, book1.book_type)  # Harry Potter hardcover\n",
    "print(book2.title, book2.book_type)  # Python Programming paperback"
   ]
  },
  {
   "cell_type": "code",
   "execution_count": 5,
   "metadata": {
    "colab": {
     "base_uri": "https://localhost:8080/"
    },
    "executionInfo": {
     "elapsed": 334,
     "status": "ok",
     "timestamp": 1724294522307,
     "user": {
      "displayName": "Hongzhou Yang",
      "userId": "15013610750638045081"
     },
     "user_tz": 360
    },
    "id": "_69MePZk9Yg-",
    "outputId": "da9b0341-d1fd-4a90-c0df-464a9d93772a"
   },
   "outputs": [
    {
     "name": "stdout",
     "output_type": "stream",
     "text": [
      "8\n",
      "2\n"
     ]
    }
   ],
   "source": [
    "class Calculator:\n",
    "    @staticmethod\n",
    "    def add(x, y):\n",
    "        return x + y\n",
    "\n",
    "    @staticmethod\n",
    "    def subtract(x, y):\n",
    "        return x - y\n",
    "\n",
    "# Use static methods without creating a class instance\n",
    "result1 = Calculator.add(5, 3)\n",
    "result2 = Calculator.subtract(5, 3)\n",
    "\n",
    "print(result1)  # 8\n",
    "print(result2)  # 2\n"
   ]
  },
  {
   "cell_type": "code",
   "execution_count": 6,
   "metadata": {
    "colab": {
     "base_uri": "https://localhost:8080/"
    },
    "executionInfo": {
     "elapsed": 332,
     "status": "ok",
     "timestamp": 1724294798105,
     "user": {
      "displayName": "Hongzhou Yang",
      "userId": "15013610750638045081"
     },
     "user_tz": 360
    },
    "id": "tgFdkDVU-h_1",
    "outputId": "2063a327-5c83-42fa-eb57-04187af1c2b5"
   },
   "outputs": [
    {
     "name": "stdout",
     "output_type": "stream",
     "text": [
      "There are many types of birds.\n",
      "Most of the birds can fly but some cannot.\n",
      "There are many types of birds.\n",
      "Eagles can fly very high.\n"
     ]
    }
   ],
   "source": [
    "class Bird:\n",
    "    def intro(self):\n",
    "        print(\"There are many types of birds.\")\n",
    "\n",
    "    def flight(self):\n",
    "        print(\"Most of the birds can fly but some cannot.\")\n",
    "\n",
    "class Eagle(Bird):\n",
    "    def flight(self):\n",
    "        print(\"Eagles can fly very high.\")\n",
    "\n",
    "bird = Bird()\n",
    "eagle = Eagle()\n",
    "\n",
    "bird.intro()   # There are many types of birds.\n",
    "bird.flight()  # Most of the birds can fly but some cannot.\n",
    "\n",
    "eagle.intro()  # There are many types of birds.\n",
    "eagle.flight() # Eagles can fly very high.\n"
   ]
  }
 ],
 "metadata": {
  "colab": {
   "authorship_tag": "ABX9TyMhNhX9vNAzAq1QI23JV6K+",
   "provenance": []
  },
  "kernelspec": {
   "display_name": "Python 3 (ipykernel)",
   "language": "python",
   "name": "python3"
  },
  "language_info": {
   "codemirror_mode": {
    "name": "ipython",
    "version": 3
   },
   "file_extension": ".py",
   "mimetype": "text/x-python",
   "name": "python",
   "nbconvert_exporter": "python",
   "pygments_lexer": "ipython3",
   "version": "3.10.9"
  }
 },
 "nbformat": 4,
 "nbformat_minor": 4
}
